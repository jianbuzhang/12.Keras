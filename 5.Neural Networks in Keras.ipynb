{
 "cells": [
  {
   "cell_type": "code",
   "execution_count": 1,
   "metadata": {},
   "outputs": [
    {
     "name": "stderr",
     "output_type": "stream",
     "text": [
      "E:\\Anaconda3.5\\Install\\envs\\python35\\lib\\site-packages\\h5py\\__init__.py:36: FutureWarning: Conversion of the second argument of issubdtype from `float` to `np.floating` is deprecated. In future, it will be treated as `np.float64 == np.dtype(float).type`.\n",
      "  from ._conv import register_converters as _register_converters\n",
      "Using TensorFlow backend.\n"
     ]
    }
   ],
   "source": [
    "# 5.Neural Networks in Keras\n",
    "\n",
    "from keras.models import Sequential\n",
    "from keras.layers.core import Dense,Activation,Flatten"
   ]
  },
  {
   "cell_type": "code",
   "execution_count": 2,
   "metadata": {},
   "outputs": [],
   "source": [
    "# create the sequential model\n",
    "model = Sequential()\n",
    "\n",
    "# 1st layer - Add a flatten layer\n",
    "model.add(Flatten(input_shape=(32,32,3)))\n",
    "\n",
    "# 2nd layer - add a fully connected layer\n",
    "model.add(Dense(100))\n",
    "\n",
    "# 3rd layer - add a ReLU activation layer\n",
    "model.add(Activation('relu'))\n",
    "\n",
    "# 4th layer - add a fully connected layer\n",
    "model.add(Dense(60))\n",
    "\n",
    "# 5th layer - add a ReLU activation layer\n",
    "model.add(Activation('relu'))\n",
    "\n"
   ]
  },
  {
   "cell_type": "code",
   "execution_count": null,
   "metadata": {},
   "outputs": [],
   "source": []
  }
 ],
 "metadata": {
  "kernelspec": {
   "display_name": "Python 3",
   "language": "python",
   "name": "python3"
  },
  "language_info": {
   "codemirror_mode": {
    "name": "ipython",
    "version": 3
   },
   "file_extension": ".py",
   "mimetype": "text/x-python",
   "name": "python",
   "nbconvert_exporter": "python",
   "pygments_lexer": "ipython3",
   "version": "3.5.5"
  }
 },
 "nbformat": 4,
 "nbformat_minor": 2
}
